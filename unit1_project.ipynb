{
 "cells": [
  {
   "cell_type": "markdown",
   "metadata": {},
   "source": [
    "<img src=\"http://imgur.com/1ZcRyrc.png\" style=\"float: left; margin: 20px; height: 55px\">\n",
    "\n",
    "# Project 1: Python Coding Exercises\n",
    "\n",
    "_Authors:  Joseph Nelson (DC)_\n",
    "\n",
    "---"
   ]
  },
  {
   "cell_type": "markdown",
   "metadata": {},
   "source": [
    "The following code challenges are drawn from common exercises used in technical interviews. This project is more about turning ideas into Python code than it is about developing algorithms, so we have provided \"pseudocode\" for the more challenging problems."
   ]
  },
  {
   "cell_type": "markdown",
   "metadata": {},
   "source": [
    "### Challenge 1: Largest Palindrome\n",
    "A palindromic number reads the same both ways. For example, 1234321 is a palindrome. The largest palindrome made from the product of two two-digit numbers is 9009 = 91 × 99. Find the largest palindrome made from the product of two three-digit numbers.\n",
    "\n",
    "Suggested algorithm:\n",
    "\n",
    "```\n",
    "- Initialize a variable `result` to 0.\n",
    "- For each number A 100 through 999:\n",
    "    - For each number B 100 through 999:\n",
    "        - Multiply A and B.\n",
    "        - Turn that product into a string (use `str` as a function).\n",
    "        - Reverse the string (use `my_string[::-1]`).\n",
    "        - If the string and its reverse are the same and the product is\n",
    "        greater than `result`,  set `result` to that new value.\n",
    "```"
   ]
  },
  {
   "cell_type": "code",
   "execution_count": 1,
   "metadata": {},
   "outputs": [
    {
     "name": "stdout",
     "output_type": "stream",
     "text": [
      "906609\n"
     ]
    }
   ],
   "source": [
    "result = 0 #Initialize a variable `result` to 0\n",
    "\n",
    "for A in range(100,1000): #For each number A 100 through 999\n",
    "    for B in range(100,1000): #For each number B 100 through 999\n",
    "        my_string1 = str(A*B) #Multiply A and B, Turn that product into a string (use `str` as a function)\n",
    "        if my_string1 == my_string1[::-1]: #Reverse the string (use `my_string[::-1]`) and check if it's the same product\n",
    "                if int(my_string1) > result: #Check if product is greater than 'result'\n",
    "                    result = int(my_string1) #Set result to new value\n",
    "print(result) #Print new value"
   ]
  },
  {
   "cell_type": "markdown",
   "metadata": {},
   "source": [
    "### Challenge 2: Summation of Primes\n",
    "The sum of the primes below 10 is 2 + 3 + 5 + 7 = 17. Find the sum of all the primes below 2,000.\n",
    "\n",
    "Suggested algorithm:\n",
    "\n",
    "```\n",
    "- Initialize an empty list of primes.\n",
    "\n",
    "- For every number A from 2 to 2,000:\n",
    "    - Set a variable `is_prime` to true.\n",
    "    - For every number B in our list of primes:\n",
    "        - If A divided by B gives no remainder, set `is_prime` to false.\n",
    "        - Optional: Use the command `break` to end the loop over primes at this point.\n",
    "    - If `is_prime` is still true, append A to our list of primes.\n",
    "    \n",
    "- Add up the primes.\n",
    "```"
   ]
  },
  {
   "cell_type": "code",
   "execution_count": 124,
   "metadata": {},
   "outputs": [
    {
     "name": "stdout",
     "output_type": "stream",
     "text": [
      "277050\n"
     ]
    }
   ],
   "source": [
    "Total = 0 #Set empty value\n",
    "is_prime = True #Set a variable `is_prime` to true\n",
    "\n",
    "for A in range (2, 2000): #For every number A from 2 to 2,000\n",
    "    if A > 1: #Checks value is greater than 1\n",
    "        for B in range(2, A): #For every number B in our list\n",
    "            if (A % B) == 0: #Check if prime number\n",
    "                is_prime = False #Assign value as false if value is not prime\n",
    "                break #Apply break to stop the loop\n",
    "        else:\n",
    "            Total += A #Sum up prime numbers\n",
    "            is_prime = True #Assign value as true if value is prime\n",
    "print(Total) #Print result"
   ]
  },
  {
   "cell_type": "markdown",
   "metadata": {},
   "source": [
    "### Challenge 3: Multiples of 3 and 5\n",
    "If we list all of the natural numbers below 10 that are multiples of 3 or 5, we get 3, 5, 6, and 9. The sum of these multiples is 23. Find the sum of all the multiples of 3 and 5 below 1,000."
   ]
  },
  {
   "cell_type": "code",
   "execution_count": 123,
   "metadata": {},
   "outputs": [
    {
     "name": "stdout",
     "output_type": "stream",
     "text": [
      "233168\n"
     ]
    }
   ],
   "source": [
    "Total = 0 #Set empty value\n",
    "\n",
    "for A in range(1,1000): #List out all numbers between 1 and 1000\n",
    "    if (A%3 == 0 or A%5 == 0): #Check if factor of 3 or 5\n",
    "        Total += A #Use 'Total' find the sum of the factors\n",
    "print(Total) #Print result"
   ]
  },
  {
   "cell_type": "markdown",
   "metadata": {},
   "source": []
  },
  {
   "cell_type": "markdown",
   "metadata": {},
   "source": [
    "### Challenge 4: String Compressor\n",
    "Write a function to perform basic string compression using the counts of repeated characters. (This is called run-length encoding.) For example, the string \"aabcccccaaa\" would become a2b1c5a3. If the “compressed” string would not become smaller than the original string, your method should return the original string. You can assume the string has only uppercase and lowercase letters (a–z). Specify whether your solution is case sensitive or case insensitive and what you would need to change to make it the other.\n",
    "\n",
    "Suggested algorithm:\n",
    "\n",
    "```\n",
    "- Initialize an empty string to hold the compressed version of the input string\n",
    "- Initialize an empty string to hold the character we are currently tallying up\n",
    "- Initialize a counter variable to 0\n",
    "\n",
    "- For each letter in the input string:\n",
    "    - If that letter matches the letter we are counting, increment the counter by 1\n",
    "    - Otherwise:\n",
    "        - If the counter value is greater than 0, add the letter we have been counting\n",
    "        and its count to our compressed string\n",
    "        - Update the letter we are counting\n",
    "        - Set the counter to 1\n",
    "\n",
    "- Append the last letter we were counting and its count to our compressed string\n",
    "```\n",
    "\n",
    "**Suggestion:** Test your function on a few sample inputs. Try to come up with \"edge cases\" that might make it fail (e.g. empty strings, strings with all the same character, strings containing non-alphabetic characters, etc.)"
   ]
  },
  {
   "cell_type": "code",
   "execution_count": 217,
   "metadata": {},
   "outputs": [
    {
     "name": "stdout",
     "output_type": "stream",
     "text": [
      "a 3 b 3 c 3 D 3 "
     ]
    }
   ],
   "source": [
    "string1=\"aaabbbcccDDD\"\n",
    "empty = []\n",
    "count = 0\n",
    "while (len(string1) > 0):\n",
    "    count = 1\n",
    "    empty= []\n",
    "    for character in range(1, len(string1)):\n",
    "        if string1[0]==string1[character]:\n",
    "            count += 1\n",
    "        else:\n",
    "            empty += string1[character]\n",
    "    print(string1[0],count,end=\" \")\n",
    "    string1 = empty"
   ]
  },
  {
   "cell_type": "markdown",
   "metadata": {},
   "source": [
    "### Challenge 5: FizzBuzz\n",
    "Write a program that prints all of the numbers from 1 to 100. For multiples of 3, instead of the number, print \"Fizz;\" for multiples of 5, "
   ]
  },
  {
   "cell_type": "markdown",
   "metadata": {},
   "source": [
    "print \"Buzz.\" For numbers that are multiples of both 3 and 5, print \"FizzBuzz.\""
   ]
  },
  {
   "cell_type": "code",
   "execution_count": 9,
   "metadata": {},
   "outputs": [
    {
     "name": "stdout",
     "output_type": "stream",
     "text": [
      "1\n",
      "2\n",
      "Fizz\n",
      "4\n",
      "Buzz\n",
      "Fizz\n",
      "7\n",
      "8\n",
      "Fizz\n",
      "Buzz\n",
      "11\n",
      "Fizz\n",
      "13\n",
      "14\n",
      "FizzBuzz\n",
      "16\n",
      "17\n",
      "Fizz\n",
      "19\n",
      "Buzz\n",
      "Fizz\n",
      "22\n",
      "23\n",
      "Fizz\n",
      "Buzz\n",
      "26\n",
      "Fizz\n",
      "28\n",
      "29\n",
      "FizzBuzz\n",
      "31\n",
      "32\n",
      "Fizz\n",
      "34\n",
      "Buzz\n",
      "Fizz\n",
      "37\n",
      "38\n",
      "Fizz\n",
      "Buzz\n",
      "41\n",
      "Fizz\n",
      "43\n",
      "44\n",
      "FizzBuzz\n",
      "46\n",
      "47\n",
      "Fizz\n",
      "49\n",
      "Buzz\n",
      "Fizz\n",
      "52\n",
      "53\n",
      "Fizz\n",
      "Buzz\n",
      "56\n",
      "Fizz\n",
      "58\n",
      "59\n",
      "FizzBuzz\n",
      "61\n",
      "62\n",
      "Fizz\n",
      "64\n",
      "Buzz\n",
      "Fizz\n",
      "67\n",
      "68\n",
      "Fizz\n",
      "Buzz\n",
      "71\n",
      "Fizz\n",
      "73\n",
      "74\n",
      "FizzBuzz\n",
      "76\n",
      "77\n",
      "Fizz\n",
      "79\n",
      "Buzz\n",
      "Fizz\n",
      "82\n",
      "83\n",
      "Fizz\n",
      "Buzz\n",
      "86\n",
      "Fizz\n",
      "88\n",
      "89\n",
      "FizzBuzz\n",
      "91\n",
      "92\n",
      "Fizz\n",
      "94\n",
      "Buzz\n",
      "Fizz\n",
      "97\n",
      "98\n",
      "Fizz\n",
      "Buzz\n"
     ]
    }
   ],
   "source": [
    "for A in range(1, 101): #Set A range 1 to 100 \n",
    "    if (A%3 == 0 and A%5 == 0): #Check if multiple of both 3 and 5\n",
    "        print ('FizzBuzz') #If so, print 'FizzBuzz'\n",
    "    elif (A%3) == 0: #Check if multiple of 3\n",
    "        print ('Fizz') #If so, print 'Fizz'\n",
    "    elif (A%5) == 0: #Check if if multiple of 5\n",
    "        print ('Buzz') #If so, print 'Buzz' \n",
    "    else:\n",
    "        print(A) #Print rest of the numbers"
   ]
  }
 ],
 "metadata": {
  "anaconda-cloud": {},
  "kernelspec": {
   "display_name": "Python 3",
   "language": "python",
   "name": "python3"
  },
  "language_info": {
   "codemirror_mode": {
    "name": "ipython",
    "version": 3
   },
   "file_extension": ".py",
   "mimetype": "text/x-python",
   "name": "python",
   "nbconvert_exporter": "python",
   "pygments_lexer": "ipython3",
   "version": "3.7.3"
  }
 },
 "nbformat": 4,
 "nbformat_minor": 2
}
